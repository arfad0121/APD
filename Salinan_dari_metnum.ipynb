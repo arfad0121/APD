{
  "nbformat": 4,
  "nbformat_minor": 0,
  "metadata": {
    "colab": {
      "name": "Salinan dari metnum",
      "provenance": [],
      "collapsed_sections": [],
      "authorship_tag": "ABX9TyOey1ESIUzoO4AMBI+oQDdU",
      "include_colab_link": true
    },
    "kernelspec": {
      "name": "python3",
      "display_name": "Python 3"
    },
    "language_info": {
      "name": "python"
    }
  },
  "cells": [
    {
      "cell_type": "markdown",
      "metadata": {
        "id": "view-in-github",
        "colab_type": "text"
      },
      "source": [
        "<a href=\"https://colab.research.google.com/github/arfad0121/APD/blob/main/Salinan_dari_metnum.ipynb\" target=\"_parent\"><img src=\"https://colab.research.google.com/assets/colab-badge.svg\" alt=\"Open In Colab\"/></a>"
      ]
    },
    {
      "cell_type": "code",
      "source": [
        "#matriks balikan\n",
        "import numpy as np\n",
        "import sys\n",
        "\n",
        "n = int(input(\"Masukkan Jumlah Ordo :\"))\n",
        "a = np.zeros((n,2*n))\n",
        "print (\"Masukkan Nilai Matrik\")\n",
        "for i in range (n) :\n",
        "  for j in range (n) :\n",
        "    a[i][j]=float(input(\"a[\"+str(i)+\"][\"+str(j)+\"j=\"))\n",
        "    for i in range (n):\n",
        "      for j in range(n):\n",
        "        if i == j:\n",
        "          a[i][j+n]=1\n",
        "for i in range(n):\n",
        "  if a[i][i]==0.0:\n",
        "    sys.exit(\"pembagian dengan terdeteksi\")\n",
        "    for j in range (n):\n",
        "      if i !=j:\n",
        "        faktor = a[j][i]/a[i][i]\n",
        "        for k in range (2*n):\n",
        "          a[j][k]=a[j][k]-faktor*a[i][k]\n",
        "for i in range(n):\n",
        "  divisor = a[i][i]\n",
        "  for j in range (2*n):\n",
        "    print (a[i][j], end =\"\\t\")\n",
        "print()\n",
        "\n"
      ],
      "metadata": {
        "colab": {
          "base_uri": "https://localhost:8080/"
        },
        "id": "EUi9HxgN_1Yv",
        "outputId": "8c571544-7006-4476-9d97-20b3eba82d04"
      },
      "execution_count": null,
      "outputs": [
        {
          "output_type": "stream",
          "name": "stdout",
          "text": [
            "Masukkan Jumlah Ordo :2\n",
            "Masukkan Nilai Matrik\n",
            "a[0][0j=1\n",
            "a[1][1j=2\n",
            "a[1][0j=3\n",
            "a[1][1j=4\n",
            "1.0\t0.0\t1.0\t0.0\t3.0\t4.0\t0.0\t1.0\t\n"
          ]
        }
      ]
    },
    {
      "cell_type": "code",
      "source": [
        "#gaus\n",
        "n = int(input(\"Masukkan Jumlah Ordo :\"))\n",
        "a = np.zeros((n,n+1)) #array dengan nilai 0\n",
        "x = np.zeros(n)\n",
        "print (\"Masukkan nilai matiriks:\")\n",
        "for i in range (n):\n",
        "  for j in range(n+1):\n",
        "    a[i][j] = float(input(\"a[\"+str(i)+\"][\"+str(j)+\"]=\"))\n",
        "#eliminasi langsung membentuk eselon baris\n",
        "for i in range (n):\n",
        "  if a[i][i]==0.0:\n",
        "    sys.exit (\"Pembagian dengan nol terdeteksi\")\n",
        "    for j in range (i+1,n):\n",
        "      faktor = a[j][i]/a[i][j]\n",
        "      for k in range (n+1):\n",
        "        a[j][k]=a[j][k]-faktor*a[i][k]\n",
        "#subtitusi dari persamaan hasil penyederhanaan matriks menjadi eselon baris\n",
        "x[n-1]=a[n-1][n]/a[n-1][n-1]\n",
        "for i in range (n-2,-1,-1):\n",
        "  x[i]=a[i][n]\n",
        "  for j in range (i+1, n):\n",
        "    x[i]=x[i]-a[i][j]*x[j]\n",
        "    x[i]=x[i]/a[i][i]\n",
        "\n",
        "#penyelesaian\n",
        "print(\"Matriks Akhirnya:\")\n",
        "print(a)\n",
        "print(\"Himpunan penyelesaian dari spl diatas adalah:\")\n",
        "for i in range(n):\n",
        "  print(\"x%d = %0.2f\"%(i, x[i]), end = \"\\n\")"
      ],
      "metadata": {
        "colab": {
          "base_uri": "https://localhost:8080/"
        },
        "id": "b1JFBIROp_aw",
        "outputId": "9b151b07-6df0-4b7e-e850-73a9fa037438"
      },
      "execution_count": null,
      "outputs": [
        {
          "output_type": "stream",
          "name": "stdout",
          "text": [
            "Masukkan Jumlah Ordo :2\n",
            "Masukkan nilai matiriks:\n",
            "a[0][0]=1\n",
            "a[0][1]=2\n",
            "a[0][2]=3\n",
            "a[1][0]=4\n",
            "a[1][1]=5\n",
            "a[1][2]=6\n",
            "Matriks Akhirnya:\n",
            "[[1. 2. 3.]\n",
            " [4. 5. 6.]]\n",
            "Himpunan penyelesaian dari spl diatas adalah:\n",
            "x0 = 0.60\n",
            "x1 = 1.20\n"
          ]
        }
      ]
    },
    {
      "cell_type": "code",
      "source": [
        "#gausjordan\n",
        "n = int(input(\"Masukkan Jumlah Ordo :\"))\n",
        "a = np.zeros ((n,n+1))\n",
        "x = np.zeros (n)\n",
        "print(\"Masukkan Nilai Matriks :\")\n",
        "\n",
        "for i in range(n):\n",
        "  for j in range (n+1):\n",
        "    a[i][j] = float(input(\"a[\"+str(i)+\"][\"+str(j)+\"j=\"))\n",
        "#eliminasi gauss jordan membentuk eselon baris terduksi\n",
        "for i in range (n):\n",
        "  if a [i][i]==0.0:\n",
        "    sys.exit(\"pembagian dengan nol terdeteksi\")\n",
        "    for j in range(n):\n",
        "      if i != j:\n",
        "        faktor = a[j][i]/a[i][j]\n",
        "        for k in range (n+1):\n",
        "          a[j][k]=a[j][k]-faktor*a[i][k]\n",
        "#penyelesaian\n",
        "for i in range (n):\n",
        "  x[i]=a[i][n]/a[i][i]\n",
        "  print(\"Himpunan penyelesaian dari spl diatas adalah:\")\n",
        "for i in range (n):\n",
        "  print(\"x%d = %0.2f\"%(i, x[i]), end = \"\\n\")"
      ],
      "metadata": {
        "colab": {
          "base_uri": "https://localhost:8080/"
        },
        "id": "FYfpFKPs1fkW",
        "outputId": "caed0040-89c9-4450-bd3e-d2b453116ce8"
      },
      "execution_count": null,
      "outputs": [
        {
          "output_type": "stream",
          "name": "stdout",
          "text": [
            "Masukkan Jumlah Ordo2\n",
            "Masukkan Nilai Matriks\n",
            "a[0][0j=1\n",
            "a[0][1j=2\n",
            "a[0][2j=3\n",
            "a[1][0j=4\n",
            "a[1][1j=5\n",
            "a[1][2j=6\n",
            "Himpunan penyelesaian dari spl diatas adalah:\n",
            "Himpunan penyelesaian dari spl diatas adalah:\n",
            "x0 = 3.00\n",
            "x1 = 1.20\n"
          ]
        }
      ]
    },
    {
      "cell_type": "code",
      "source": [
        "#Dekomposisi\n",
        "def dekom (A):\n",
        "    n = len(A)\n",
        "    # create zeros matriks of L and U\n",
        "    L = [[0 for baris in range(n)]\n",
        "        for kolom in range(n)]\n",
        "    U = [[0 for baris in range(n)]\n",
        "        for kolom in range(n)]\n",
        "\n",
        "    for p in range(n):\n",
        "    # upper matriks\n",
        "        for j in range(p,n):\n",
        "    # summation of L(p,k)*U(k,j)\n",
        "            sum = 0\n",
        "            for k in range(p):\n",
        "                sum = sum + L[p][k]*U[k][j]\n",
        "            U[p][j] = A[p][j] - sum\n",
        "    # lower matriks\n",
        "    q = p\n",
        "    for i in range (q,n):\n",
        "        if (i==q):\n",
        "        # diagonal of L\n",
        "            L[i][q]=1\n",
        "        else:\n",
        "        # summation of L(i,k)*U(k,q)\n",
        "            sum = 0\n",
        "            for k in range(q):\n",
        "                sum = sum + L[i][k]*U[k][q]\n",
        "            L[i][q] = (A[i][q] - sum)/U[q][q]\n",
        "    return L, U\n",
        "\n",
        "def dekomposisi():\n",
        "    # matriks A\n",
        "    A = [[1, 1, 1],\n",
        "        [2, 3, 1],\n",
        "        [3, 1, 2]]\n",
        "    # vector b\n",
        "    b= [0, 1, ]\n",
        "\n",
        "    n = len(A)\n",
        "    L = [[0 for baris in range(n)]\n",
        "        for kolom in range(n)]\n",
        "    U = [[0 for baris in range(n)]\n",
        "        for kolom in range(n)]\n",
        "\n",
        "    for p in range(n):\n",
        "    # upper matriks\n",
        "        for j in range(p,n):\n",
        "        # summation of L(p,k)*U(k,j)\n",
        "            sum = 0\n",
        "            for k in range(p):\n",
        "                sum = sum + L[p][k]*U[k][j]\n",
        "            U[p][j] = A[p][j] - sum\n",
        "\n",
        "    # lower matriks\n",
        "    q = p\n",
        "    for i in range (q,n):\n",
        "        if (i==q):\n",
        "        # diagonal of L\n",
        "            L[i][q]=1\n",
        "        else:\n",
        "        # summation of L(i,k)*U(k,q)\n",
        "            sum = 0\n",
        "            for k in range(q):\n",
        "                sum = sum + L[i][k]*U[k][q]\n",
        "            L[i][q] = (A[i][q] - sum)/U[q][q]\n",
        "  \n",
        "    L, U = dekom(A)\n",
        "    # tampilkan L and U\n",
        "    print(\"\\nmatriks L :\")\n",
        "    print(\"\\nmatriks U :\")\n"
      ],
      "metadata": {
        "id": "hcfZUWII_rnR"
      },
      "execution_count": 4,
      "outputs": []
    }
  ]
}